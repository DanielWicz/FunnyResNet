{
  "nbformat": 4,
  "nbformat_minor": 0,
  "metadata": {
    "colab": {
      "name": "SimpleResNet.ipynb",
      "provenance": [],
      "collapsed_sections": [],
      "machine_shape": "hm"
    },
    "kernelspec": {
      "name": "python3",
      "display_name": "Python 3"
    },
    "accelerator": "GPU"
  },
  "cells": [
    {
      "cell_type": "markdown",
      "metadata": {
        "id": "5EI9kVD6HJCo",
        "colab_type": "text"
      },
      "source": [
        "# Tutorial for building own layer in the TensorFlow2\n",
        "# Made by Daniel Wiczew\n",
        "# Cotact: daniel.wiczew@gmail.com"
      ]
    },
    {
      "cell_type": "code",
      "metadata": {
        "id": "SAA7W6edefUy",
        "colab_type": "code",
        "outputId": "9f5e01a1-e113-4f4e-b20d-478e3578c029",
        "colab": {
          "base_uri": "https://localhost:8080/",
          "height": 960
        }
      },
      "source": [
        "# Please download TensorFlow 2.0 or higher to work with the tutorial\n",
        "!pip uninstall --yes tensorflow\n",
        "!pip install tensorflow"
      ],
      "execution_count": 1,
      "outputs": [
        {
          "output_type": "stream",
          "text": [
            "Uninstalling tensorflow-1.15.0:\n",
            "  Successfully uninstalled tensorflow-1.15.0\n",
            "Requirement already satisfied: tensorflow in /usr/local/lib/python3.6/dist-packages (2.1.0)\n",
            "Collecting tensorflow-estimator<2.2.0,>=2.1.0rc0\n",
            "\u001b[?25l  Downloading https://files.pythonhosted.org/packages/18/90/b77c328a1304437ab1310b463e533fa7689f4bfc41549593056d812fab8e/tensorflow_estimator-2.1.0-py2.py3-none-any.whl (448kB)\n",
            "\u001b[K     |████████████████████████████████| 450kB 2.7MB/s \n",
            "\u001b[?25hRequirement already satisfied: absl-py>=0.7.0 in /usr/local/lib/python3.6/dist-packages (from tensorflow) (0.9.0)\n",
            "Requirement already satisfied: six>=1.12.0 in /usr/local/lib/python3.6/dist-packages (from tensorflow) (1.12.0)\n",
            "Requirement already satisfied: scipy==1.4.1; python_version >= \"3\" in /usr/local/lib/python3.6/dist-packages (from tensorflow) (1.4.1)\n",
            "Collecting tensorboard<2.2.0,>=2.1.0\n",
            "\u001b[?25l  Downloading https://files.pythonhosted.org/packages/d9/41/bbf49b61370e4f4d245d4c6051dfb6db80cec672605c91b1652ac8cc3d38/tensorboard-2.1.1-py3-none-any.whl (3.8MB)\n",
            "\u001b[K     |████████████████████████████████| 3.9MB 8.4MB/s \n",
            "\u001b[?25hRequirement already satisfied: google-pasta>=0.1.6 in /usr/local/lib/python3.6/dist-packages (from tensorflow) (0.2.0)\n",
            "Requirement already satisfied: astor>=0.6.0 in /usr/local/lib/python3.6/dist-packages (from tensorflow) (0.8.1)\n",
            "Requirement already satisfied: numpy<2.0,>=1.16.0 in /usr/local/lib/python3.6/dist-packages (from tensorflow) (1.18.2)\n",
            "Requirement already satisfied: gast==0.2.2 in /usr/local/lib/python3.6/dist-packages (from tensorflow) (0.2.2)\n",
            "Requirement already satisfied: keras-preprocessing>=1.1.0 in /usr/local/lib/python3.6/dist-packages (from tensorflow) (1.1.0)\n",
            "Requirement already satisfied: opt-einsum>=2.3.2 in /usr/local/lib/python3.6/dist-packages (from tensorflow) (3.2.0)\n",
            "Requirement already satisfied: termcolor>=1.1.0 in /usr/local/lib/python3.6/dist-packages (from tensorflow) (1.1.0)\n",
            "Requirement already satisfied: protobuf>=3.8.0 in /usr/local/lib/python3.6/dist-packages (from tensorflow) (3.10.0)\n",
            "Requirement already satisfied: grpcio>=1.8.6 in /usr/local/lib/python3.6/dist-packages (from tensorflow) (1.24.3)\n",
            "Requirement already satisfied: wrapt>=1.11.1 in /usr/local/lib/python3.6/dist-packages (from tensorflow) (1.12.1)\n",
            "Requirement already satisfied: keras-applications>=1.0.8 in /usr/local/lib/python3.6/dist-packages (from tensorflow) (1.0.8)\n",
            "Requirement already satisfied: wheel>=0.26; python_version >= \"3\" in /usr/local/lib/python3.6/dist-packages (from tensorflow) (0.34.2)\n",
            "Requirement already satisfied: markdown>=2.6.8 in /usr/local/lib/python3.6/dist-packages (from tensorboard<2.2.0,>=2.1.0->tensorflow) (3.2.1)\n",
            "Requirement already satisfied: requests<3,>=2.21.0 in /usr/local/lib/python3.6/dist-packages (from tensorboard<2.2.0,>=2.1.0->tensorflow) (2.21.0)\n",
            "Requirement already satisfied: google-auth<2,>=1.6.3 in /usr/local/lib/python3.6/dist-packages (from tensorboard<2.2.0,>=2.1.0->tensorflow) (1.7.2)\n",
            "Requirement already satisfied: werkzeug>=0.11.15 in /usr/local/lib/python3.6/dist-packages (from tensorboard<2.2.0,>=2.1.0->tensorflow) (1.0.0)\n",
            "Requirement already satisfied: setuptools>=41.0.0 in /usr/local/lib/python3.6/dist-packages (from tensorboard<2.2.0,>=2.1.0->tensorflow) (46.0.0)\n",
            "Requirement already satisfied: google-auth-oauthlib<0.5,>=0.4.1 in /usr/local/lib/python3.6/dist-packages (from tensorboard<2.2.0,>=2.1.0->tensorflow) (0.4.1)\n",
            "Requirement already satisfied: h5py in /usr/local/lib/python3.6/dist-packages (from keras-applications>=1.0.8->tensorflow) (2.8.0)\n",
            "Requirement already satisfied: certifi>=2017.4.17 in /usr/local/lib/python3.6/dist-packages (from requests<3,>=2.21.0->tensorboard<2.2.0,>=2.1.0->tensorflow) (2019.11.28)\n",
            "Requirement already satisfied: urllib3<1.25,>=1.21.1 in /usr/local/lib/python3.6/dist-packages (from requests<3,>=2.21.0->tensorboard<2.2.0,>=2.1.0->tensorflow) (1.24.3)\n",
            "Requirement already satisfied: chardet<3.1.0,>=3.0.2 in /usr/local/lib/python3.6/dist-packages (from requests<3,>=2.21.0->tensorboard<2.2.0,>=2.1.0->tensorflow) (3.0.4)\n",
            "Requirement already satisfied: idna<2.9,>=2.5 in /usr/local/lib/python3.6/dist-packages (from requests<3,>=2.21.0->tensorboard<2.2.0,>=2.1.0->tensorflow) (2.8)\n",
            "Requirement already satisfied: cachetools<3.2,>=2.0.0 in /usr/local/lib/python3.6/dist-packages (from google-auth<2,>=1.6.3->tensorboard<2.2.0,>=2.1.0->tensorflow) (3.1.1)\n",
            "Requirement already satisfied: pyasn1-modules>=0.2.1 in /usr/local/lib/python3.6/dist-packages (from google-auth<2,>=1.6.3->tensorboard<2.2.0,>=2.1.0->tensorflow) (0.2.8)\n",
            "Requirement already satisfied: rsa<4.1,>=3.1.4 in /usr/local/lib/python3.6/dist-packages (from google-auth<2,>=1.6.3->tensorboard<2.2.0,>=2.1.0->tensorflow) (4.0)\n",
            "Requirement already satisfied: requests-oauthlib>=0.7.0 in /usr/local/lib/python3.6/dist-packages (from google-auth-oauthlib<0.5,>=0.4.1->tensorboard<2.2.0,>=2.1.0->tensorflow) (1.3.0)\n",
            "Requirement already satisfied: pyasn1<0.5.0,>=0.4.6 in /usr/local/lib/python3.6/dist-packages (from pyasn1-modules>=0.2.1->google-auth<2,>=1.6.3->tensorboard<2.2.0,>=2.1.0->tensorflow) (0.4.8)\n",
            "Requirement already satisfied: oauthlib>=3.0.0 in /usr/local/lib/python3.6/dist-packages (from requests-oauthlib>=0.7.0->google-auth-oauthlib<0.5,>=0.4.1->tensorboard<2.2.0,>=2.1.0->tensorflow) (3.1.0)\n",
            "\u001b[31mERROR: tensorflow-federated 0.12.0 has requirement tensorflow-addons~=0.7.0, but you'll have tensorflow-addons 0.8.3 which is incompatible.\u001b[0m\n",
            "Installing collected packages: tensorflow-estimator, tensorboard\n",
            "  Found existing installation: tensorflow-estimator 1.15.1\n",
            "    Uninstalling tensorflow-estimator-1.15.1:\n",
            "      Successfully uninstalled tensorflow-estimator-1.15.1\n",
            "  Found existing installation: tensorboard 1.15.0\n",
            "    Uninstalling tensorboard-1.15.0:\n",
            "      Successfully uninstalled tensorboard-1.15.0\n",
            "Successfully installed tensorboard-2.1.1 tensorflow-estimator-2.1.0\n"
          ],
          "name": "stdout"
        }
      ]
    },
    {
      "cell_type": "code",
      "metadata": {
        "id": "AxKCXMaoekS4",
        "colab_type": "code",
        "colab": {}
      },
      "source": [
        "# These are the libraries needed for the tutorial\n",
        "import tensorflow as tf\n",
        "from matplotlib.pyplot import imshow\n",
        "import numpy as np\n",
        "import pandas as pd"
      ],
      "execution_count": 0,
      "outputs": []
    },
    {
      "cell_type": "code",
      "metadata": {
        "id": "3_IBoy6lTqqz",
        "colab_type": "code",
        "outputId": "3df07223-9455-4452-db56-f9aac60f3225",
        "colab": {
          "base_uri": "https://localhost:8080/",
          "height": 702
        }
      },
      "source": [
        "# Make sure that the GPU is available and the version is 2.0 or higher\n",
        "print(tf.__version__)\n",
        "from tensorflow.python.client import device_lib\n",
        "print(device_lib.list_local_devices())\n",
        "tf.test.is_gpu_available()  #>>> True"
      ],
      "execution_count": 2,
      "outputs": [
        {
          "output_type": "stream",
          "text": [
            "2.1.0\n",
            "[name: \"/device:CPU:0\"\n",
            "device_type: \"CPU\"\n",
            "memory_limit: 268435456\n",
            "locality {\n",
            "}\n",
            "incarnation: 4521178795135527432\n",
            ", name: \"/device:XLA_CPU:0\"\n",
            "device_type: \"XLA_CPU\"\n",
            "memory_limit: 17179869184\n",
            "locality {\n",
            "}\n",
            "incarnation: 4546857645181843592\n",
            "physical_device_desc: \"device: XLA_CPU device\"\n",
            ", name: \"/device:XLA_GPU:0\"\n",
            "device_type: \"XLA_GPU\"\n",
            "memory_limit: 17179869184\n",
            "locality {\n",
            "}\n",
            "incarnation: 11993612135867426182\n",
            "physical_device_desc: \"device: XLA_GPU device\"\n",
            ", name: \"/device:GPU:0\"\n",
            "device_type: \"GPU\"\n",
            "memory_limit: 15956161332\n",
            "locality {\n",
            "  bus_id: 1\n",
            "  links {\n",
            "  }\n",
            "}\n",
            "incarnation: 13366759605019209822\n",
            "physical_device_desc: \"device: 0, name: Tesla P100-PCIE-16GB, pci bus id: 0000:00:04.0, compute capability: 6.0\"\n",
            "]\n",
            "WARNING:tensorflow:From <ipython-input-2-4694b2fd5e85>:4: is_gpu_available (from tensorflow.python.framework.test_util) is deprecated and will be removed in a future version.\n",
            "Instructions for updating:\n",
            "Use `tf.config.list_physical_devices('GPU')` instead.\n"
          ],
          "name": "stdout"
        },
        {
          "output_type": "execute_result",
          "data": {
            "text/plain": [
              "True"
            ]
          },
          "metadata": {
            "tags": []
          },
          "execution_count": 2
        }
      ]
    },
    {
      "cell_type": "code",
      "metadata": {
        "id": "CEJUnrM6nXaL",
        "colab_type": "code",
        "colab": {}
      },
      "source": [
        "# Download and load CIFAR10 dataset to the memory.\n",
        "# If you don't have enough memory (which is not the case on the google colab), then you have to download it manually\n",
        "(x_train, y_train), (x_test, y_test) = tf.keras.datasets.cifar10.load_data()"
      ],
      "execution_count": 0,
      "outputs": []
    },
    {
      "cell_type": "code",
      "metadata": {
        "id": "sA1mxQuan4Dz",
        "colab_type": "code",
        "colab": {}
      },
      "source": [
        "# Normalize images\n",
        "x_train = x_train * (1./255.)\n",
        "x_test = x_test * (1./255.)\n",
        "\n",
        "# Standarize Images\n",
        "mean = np.mean(x_train,axis=(0, 1, 2, 3))\n",
        "std = np.std(x_train,axis=(0, 1, 2, 3))\n",
        "x_train = (x_train-mean)/(std + 1e-7)\n",
        "x_test = (x_test-mean)/(std + 1e-7)\n",
        "\n",
        "# Turn classes to one-hot-encoding matrices\n",
        "OUTPUT_CLASSES = y_train.max() + 1\n",
        "y_train = tf.keras.utils.to_categorical(y_train, OUTPUT_CLASSES)\n",
        "y_test = tf.keras.utils.to_categorical(y_test, OUTPUT_CLASSES)"
      ],
      "execution_count": 0,
      "outputs": []
    },
    {
      "cell_type": "code",
      "metadata": {
        "id": "C23HNqT-pbCU",
        "colab_type": "code",
        "outputId": "b80b5566-67e4-4a15-e741-38fbb6ea31c9",
        "colab": {
          "base_uri": "https://localhost:8080/",
          "height": 303
        }
      },
      "source": [
        "# Example image\n",
        "imshow(x_test[0])"
      ],
      "execution_count": 5,
      "outputs": [
        {
          "output_type": "stream",
          "text": [
            "Clipping input data to the valid range for imshow with RGB data ([0..1] for floats or [0..255] for integers).\n"
          ],
          "name": "stderr"
        },
        {
          "output_type": "execute_result",
          "data": {
            "text/plain": [
              "<matplotlib.image.AxesImage at 0x7f48591ccf28>"
            ]
          },
          "metadata": {
            "tags": []
          },
          "execution_count": 5
        },
        {
          "output_type": "display_data",
          "data": {
            "image/png": "[encoded data removed]",
            "text/plain": [
              "<Figure size 432x288 with 1 Axes>"
            ]
          },
          "metadata": {
            "tags": []
          }
        }
      ]
    },
    {
      "cell_type": "code",
      "metadata": {
        "id": "mYOgecuApwCt",
        "colab_type": "code",
        "colab": {}
      },
      "source": [
        "# Basic constants\n",
        "# 300 should be enough to train the model\n",
        "EPOCHS = 300\n",
        "BATCH_SIZE = 256\n",
        "INPUT_SHAPE = x_train[255].shape"
      ],
      "execution_count": 0,
      "outputs": []
    },
    {
      "cell_type": "code",
      "metadata": {
        "id": "r-QU0WMZxuYE",
        "colab_type": "code",
        "colab": {}
      },
      "source": [
        "# Data Augumentation\n",
        "# You can play with the parameters to get better accuracy\n",
        "imagegen = tf.keras.preprocessing.image.ImageDataGenerator(rotation_range=45, \n",
        "                                                           width_shift_range=0.25,\n",
        "                                                           height_shift_range=0.25,\n",
        "                                                           horizontal_flip=True,\n",
        "                                                           zoom_range=0.25,\n",
        "                                                           shear_range=0.15)\n",
        "imagegen.fit(x_train)\n",
        "dataflow = imagegen.flow(x_train, y_train, batch_size=BATCH_SIZE)"
      ],
      "execution_count": 0,
      "outputs": []
    },
    {
      "cell_type": "code",
      "metadata": {
        "id": "RiupdUjbfNzf",
        "colab_type": "code",
        "colab": {}
      },
      "source": [
        "# Here is the first resnet layer, that does preserve input shape\n",
        "# ResNET Layer\n",
        "class ResidualLayer(tf.keras.layers.Layer):\n",
        "  def __init__(self, f=None, fillter_size_top=None,\n",
        "               fillter_size_mid=None, fillter_size_bot=None):\n",
        "    super(ResidualLayer, self).__init__()\n",
        "    self.conv_top_1 = tf.keras.layers.Conv2D(fillter_size_top, (1, 1),\n",
        "                                             strides=(1, 1), padding='valid')\n",
        "    # Divided by 2 to ensure different parameters\n",
        "    self.conv_top_2 = tf.keras.layers.Conv2D(fillter_size_top//4, (1, 1),\n",
        "                                             strides=(1, 1), padding='valid')\n",
        "    self.conv_mid_1 = tf.keras.layers.Conv2D(fillter_size_mid, (f, f),\n",
        "                                             strides=(1, 1), padding='same')\n",
        "    # Divided by 2 to ensure different parameters\n",
        "    self.conv_mid_2 = tf.keras.layers.Conv2D(fillter_size_mid//4, (f, f),\n",
        "                                             strides=(1, 1), padding='same')\n",
        "    self.conv_bot_1 = tf.keras.layers.Conv2D(fillter_size_bot, (1, 1),\n",
        "                                             strides=(1, 1), padding='valid')\n",
        "    # The outputs have to be the same to add up\n",
        "    self.conv_bot_2 = tf.keras.layers.Conv2D(fillter_size_bot, (1, 1),\n",
        "                                             strides=(1, 1), padding='valid')\n",
        "    \n",
        "    self.batch_norm_top_1 = tf.keras.layers.BatchNormalization(axis=3)\n",
        "    self.batch_norm_top_2 = tf.keras.layers.BatchNormalization(axis=3)\n",
        "    self.batch_norm_mid_1 = tf.keras.layers.BatchNormalization(axis=3)\n",
        "    self.batch_norm_mid_2 = tf.keras.layers.BatchNormalization(axis=3)\n",
        "    self.batch_norm_bot_1 = tf.keras.layers.BatchNormalization(axis=3)\n",
        "    self.batch_norm_bot_2 = tf.keras.layers.BatchNormalization(axis=3)\n",
        "\n",
        "    self.activation_relu = tf.keras.layers.Activation('relu')\n",
        "    self.add_op = tf.keras.layers.Add()\n",
        "\n",
        "  def call(self, input_x, training=False):\n",
        "    x_shortcut = input_x\n",
        "\n",
        "    ##PATH 1\n",
        "    x_path_1 = input_x\n",
        "    # First CONV block of path 1\n",
        "    x_path_1 = self.conv_top_1(x_path_1)\n",
        "    x_path_1 = self.batch_norm_top_1(x_path_1, training=training)\n",
        "    x_path_1 = self.activation_relu(x_path_1)\n",
        "\n",
        "    # Second CONV block of path 1\n",
        "    x_path_1 = self.conv_mid_1(x_path_1)\n",
        "    x_path_1 = self.batch_norm_mid_1(x_path_1, training=training)\n",
        "    x_path_1 = self.activation_relu(x_path_1)\n",
        "\n",
        "    # Third CONV block of path 1\n",
        "    x_path_1 = self.conv_bot_1(x_path_1)\n",
        "    x_path_1 = self.batch_norm_bot_1(x_path_1, training=training)\n",
        "\n",
        "    ##PATH 2\n",
        "    x_path_2 = input_x\n",
        "    # First CONV block of path 1\n",
        "    x_path_2 = self.conv_top_2(x_path_2)\n",
        "    x_path_2 = self.batch_norm_top_2(x_path_2, training=training)\n",
        "    x_path_2 = self.activation_relu(x_path_2)\n",
        "\n",
        "    # Second CONV block of path 1\n",
        "    x_path_2 = self.conv_mid_2(x_path_2)\n",
        "    x_path_2 = self.batch_norm_mid_2(x_path_2, training=training)\n",
        "    x_path_2 = self.activation_relu(x_path_2)\n",
        "\n",
        "    # Third CONV block of path 1\n",
        "    x_path_2 = self.conv_bot_2(x_path_2)\n",
        "    x_path_2 = self.batch_norm_bot_2(x_path_2, training=training)\n",
        "\n",
        "    # Addition of PATH 1 and PATH 2\n",
        "    x = self.add_op([x_path_1, x_path_2])\n",
        "    # Addition to the shortcut path\n",
        "    x = self.add_op([x, x_shortcut])\n",
        "    x_output = self.activation_relu(x)\n",
        "\n",
        "    return x_output"
      ],
      "execution_count": 0,
      "outputs": []
    },
    {
      "cell_type": "code",
      "metadata": {
        "id": "xcextqIwL5i_",
        "colab_type": "code",
        "colab": {}
      },
      "source": [
        "# Here is the second resnet layer, that does not preserve input shape\n",
        "# ResNET layer\n",
        "class ResidualLayerScal(tf.keras.layers.Layer):\n",
        "  def __init__(self, f=None, s=None, fillter_size_top=None,\n",
        "               fillter_size_mid=None, fillter_size_bot=None):\n",
        "    super(ResidualLayerScal, self).__init__()\n",
        "    self.conv_top_1 = tf.keras.layers.Conv2D(fillter_size_top, (1, 1),\n",
        "                                             strides=(1, 1), padding='valid')\n",
        "    # Make the hyperparameters different \n",
        "    self.conv_top_2 = tf.keras.layers.Conv2D(fillter_size_top//4, (1, 1),\n",
        "                                             strides=(1, 1), padding='valid')\n",
        "    self.conv_mid_1 = tf.keras.layers.Conv2D(fillter_size_mid, (f, f),\n",
        "                                             strides=(1, 1), padding='same')\n",
        "    # Make the hyperparameters different \n",
        "    self.conv_mid_2 = tf.keras.layers.Conv2D(fillter_size_mid//4, (f, f),\n",
        "                                             strides=(1, 1), padding='same')\n",
        "    self.conv_bot_1 = tf.keras.layers.Conv2D(fillter_size_bot, (1, 1),\n",
        "                                             strides=(s, s), padding='valid')\n",
        "    # You can't make the hyperparameters different, the output have to be the same\n",
        "    self.conv_bot_2 = tf.keras.layers.Conv2D(fillter_size_bot, (1, 1),\n",
        "                                             strides=(s, s), padding='valid')\n",
        "    self.conv_scal = tf.keras.layers.Conv2D(fillter_size_bot, (1, 1),\n",
        "                                             strides=(s, s), padding='valid')\n",
        "    \n",
        "    self.batch_norm_top_1 = tf.keras.layers.BatchNormalization(axis=3)\n",
        "    self.batch_norm_top_2 = tf.keras.layers.BatchNormalization(axis=3)\n",
        "    self.batch_norm_mid_1 = tf.keras.layers.BatchNormalization(axis=3)\n",
        "    self.batch_norm_mid_2 = tf.keras.layers.BatchNormalization(axis=3)\n",
        "    self.batch_norm_bot_1 = tf.keras.layers.BatchNormalization(axis=3)\n",
        "    self.batch_norm_bot_2 = tf.keras.layers.BatchNormalization(axis=3)\n",
        "    self.batch_norm_scal = tf.keras.layers.BatchNormalization(axis=3)\n",
        "\n",
        "    self.activation_relu = tf.keras.layers.Activation('relu')\n",
        "    self.add_op = tf.keras.layers.Add()\n",
        "\n",
        "  def call(self, input_x, training=False):\n",
        "    x_shortcut = input_x\n",
        "\n",
        "    ##PATH 1\n",
        "    x_path_1 = input_x\n",
        "    # First CONV block of path 1\n",
        "    x_path_1 = self.conv_top_1(x_path_1)\n",
        "    x_path_1 = self.batch_norm_top_1(x_path_1, training=training)\n",
        "    x_path_1 = self.activation_relu(x_path_1)\n",
        "\n",
        "    # Second CONV block of path 1\n",
        "    x_path_1 = self.conv_mid_1(x_path_1)\n",
        "    x_path_1 = self.batch_norm_mid_1(x_path_1, training=training)\n",
        "    x_path_1 = self.activation_relu(x_path_1)\n",
        "\n",
        "    # Third CONV block of path 1\n",
        "    x_path_1 = self.conv_bot_1(x_path_1)\n",
        "    x_path_1 = self.batch_norm_bot_1(x_path_1, training=training)\n",
        "\n",
        "    ##PATH 2\n",
        "    x_path_2 = input_x\n",
        "    # First CONV block of path 1\n",
        "    x_path_2 = self.conv_top_2(x_path_2)\n",
        "    x_path_2 = self.batch_norm_top_2(x_path_2, training=training)\n",
        "    x_path_2 = self.activation_relu(x_path_2)\n",
        "\n",
        "    # Second CONV block of path 1\n",
        "    x_path_2 = self.conv_mid_2(x_path_2)\n",
        "    x_path_2 = self.batch_norm_mid_2(x_path_2, training=training)\n",
        "    x_path_2 = self.activation_relu(x_path_2)\n",
        "\n",
        "    # Third CONV block of path 1\n",
        "    x_path_2 = self.conv_bot_2(x_path_2)\n",
        "    x_path_2 = self.batch_norm_bot_2(x_path_2, training=training)\n",
        "\n",
        "    # Addition of PATH 1 and PATH 2\n",
        "    x = self.add_op([x_path_1, x_path_2])\n",
        "    # Scaling Block\n",
        "    x_shortcut = self.conv_scal(x_shortcut)\n",
        "    x_shortcut = self.batch_norm_scal(x_shortcut, training=training)\n",
        "    # Addition to the shortcut path\n",
        "    x = self.add_op([x, x_shortcut])\n",
        "    x_output = self.activation_relu(x)\n",
        "\n",
        "    return x_output"
      ],
      "execution_count": 0,
      "outputs": []
    },
    {
      "cell_type": "code",
      "metadata": {
        "id": "0Dx48qELQGGH",
        "colab_type": "code",
        "colab": {}
      },
      "source": [
        "# Then the layers are combined into a model\n",
        "class FunnyResNet(tf.keras.Model):\n",
        "  def __init__(self):\n",
        "    super(FunnyResNet, self).__init__()\n",
        "    self.batchnorm_lay1 = tf.keras.layers.BatchNormalization(axis=3)\n",
        "    self.conv_lay1 = tf.keras.layers.Conv2D(64, strides=(2, 2), kernel_size=(3, 3), activation='relu')\n",
        "    self.act_lay1 = tf.keras.layers.Activation('relu')\n",
        "\n",
        "\n",
        "  # Our ResNet block 1\n",
        "    self.resnet_b1_lay1 = ResidualLayerScal(f=3, s=2, fillter_size_top=128,\n",
        "                                            fillter_size_mid=128, fillter_size_bot=256)\n",
        "    self.resnet_b1_lay2 = ResidualLayer(f=3, fillter_size_top=128,\n",
        "                                        fillter_size_mid=128, fillter_size_bot=256)\n",
        "    self.resnet_b1_lay3 = ResidualLayer(f=3, fillter_size_top=128,\n",
        "                                        fillter_size_mid=128, fillter_size_bot=256)\n",
        "    self.resnet_b1_lay4 = ResidualLayer(f=3, fillter_size_top=128,\n",
        "                                        fillter_size_mid=128, fillter_size_bot=256)\n",
        "    self.resnet_b1_lay5 = ResidualLayer(f=3, fillter_size_top=128,\n",
        "                                        fillter_size_mid=128, fillter_size_bot=256)\n",
        "\n",
        "    # Our ResNet block 2\n",
        "    self.resnet_b2_lay1 = ResidualLayerScal(f=5, s=2, fillter_size_top=256,\n",
        "                                            fillter_size_mid=256, fillter_size_bot=512)\n",
        "    self.resnet_b2_lay2 = ResidualLayer(f=5, fillter_size_top=256,\n",
        "                                        fillter_size_mid=256, fillter_size_bot=512)\n",
        "    self.resnet_b2_lay3 = ResidualLayer(f=5, fillter_size_top=256,\n",
        "                                        fillter_size_mid=256, fillter_size_bot=512)\n",
        "    self.resnet_b2_lay4 = ResidualLayer(f=5, fillter_size_top=256,\n",
        "                                        fillter_size_mid=256, fillter_size_bot=512)\n",
        "    self.resnet_b2_lay5 = ResidualLayer(f=5, fillter_size_top=256,\n",
        "                                        fillter_size_mid=256, fillter_size_bot=512)\n",
        "\n",
        "  # Our ResNet block 3\n",
        "    self.resnet_b3_lay1 = ResidualLayerScal(f=7, s=2, fillter_size_top=512,\n",
        "                                            fillter_size_mid=512, fillter_size_bot=1024)\n",
        "    self.resnet_b3_lay2 = ResidualLayer(f=7, fillter_size_top=512,\n",
        "                                        fillter_size_mid=512, fillter_size_bot=1024)\n",
        "    self.resnet_b3_lay3 = ResidualLayer(f=7, fillter_size_top=512,\n",
        "                                        fillter_size_mid=512, fillter_size_bot=1024)\n",
        "    self.resnet_b3_lay4 = ResidualLayer(f=7, fillter_size_top=512,\n",
        "                                        fillter_size_mid=512, fillter_size_bot=1024)\n",
        "    self.resnet_b3_lay5 = ResidualLayer(f=7, fillter_size_top=512,\n",
        "                                        fillter_size_mid=512, fillter_size_bot=1024)\n",
        "\n",
        "\n",
        "    self.flat_lay = tf.keras.layers.Flatten()\n",
        "    self.dense_lay2 = tf.keras.layers.Dense(OUTPUT_CLASSES, activation='softmax')\n",
        "\n",
        "  def call(self, x_input, training=False):\n",
        "    x = self.conv_lay1(x_input)\n",
        "    x = self.batchnorm_lay1(x, training=training)\n",
        "    x = self.act_lay1(x)\n",
        "    # Residual block 1\n",
        "    x = self.resnet_b1_lay1(x, training=training)\n",
        "    x = self.resnet_b1_lay2(x, training=training)\n",
        "    x = self.resnet_b1_lay3(x, training=training)\n",
        "    x = self.resnet_b1_lay4(x, training=training)\n",
        "    x = self.resnet_b1_lay5(x, training=training)\n",
        "    # Residual block 2\n",
        "    x = self.resnet_b2_lay1(x, training=training)\n",
        "    x = self.resnet_b2_lay2(x, training=training)\n",
        "    x = self.resnet_b2_lay3(x, training=training)\n",
        "    x = self.resnet_b2_lay4(x, training=training)\n",
        "    x = self.resnet_b2_lay5(x, training=training)\n",
        "    # Residual block 3\n",
        "    x = self.resnet_b3_lay1(x, training=training)\n",
        "    x = self.resnet_b3_lay2(x, training=training)\n",
        "    x = self.resnet_b3_lay3(x, training=training)\n",
        "    x = self.resnet_b3_lay4(x, training=training)\n",
        "    x = self.resnet_b3_lay5(x, training=training)\n",
        "\n",
        "    x = self.flat_lay(x)\n",
        "    x = self.dense_lay2(x)\n",
        "    return x"
      ],
      "execution_count": 0,
      "outputs": []
    },
    {
      "cell_type": "code",
      "metadata": {
        "id": "X10SmzJ0p9ZM",
        "colab_type": "code",
        "outputId": "a868e36f-e801-4c51-beaf-f394c6f2d607",
        "colab": {
          "base_uri": "https://localhost:8080/",
          "height": 148
        }
      },
      "source": [
        "model = FunnyResNet()\n",
        "# Set initial weight shapes based on the initial input\n",
        "model(x_train[0:2])\n",
        "optimizer = tf.keras.optimizers.Adam(learning_rate=0.02)\n",
        "model.compile(optimizer=optimizer, loss='categorical_crossentropy', metrics=['accuracy'])"
      ],
      "execution_count": 17,
      "outputs": [
        {
          "output_type": "stream",
          "text": [
            "WARNING:tensorflow:Layer funny_res_net_2 is casting an input tensor from dtype float64 to the layer's dtype of float32, which is new behavior in TensorFlow 2.  The layer has dtype float32 because it's dtype defaults to floatx.\n",
            "\n",
            "If you intended to run this layer in float32, you can safely ignore this warning. If in doubt, this warning is likely only an issue if you are porting a TensorFlow 1.X model to TensorFlow 2.\n",
            "\n",
            "To change all layers to have dtype float64 by default, call `tf.keras.backend.set_floatx('float64')`. To change just this layer, pass dtype='float64' to the layer constructor. If you are the author of this layer, you can disable autocasting by passing autocast=False to the base Layer constructor.\n",
            "\n"
          ],
          "name": "stdout"
        }
      ]
    },
    {
      "cell_type": "code",
      "metadata": {
        "id": "Ddyb4lJzvg3v",
        "colab_type": "code",
        "outputId": "78289253-b7a0-4203-dd86-f96912459e1b",
        "colab": {
          "base_uri": "https://localhost:8080/",
          "height": 1000
        }
      },
      "source": [
        "history = model.fit(dataflow, epochs=EPOCHS, shuffle=True,\n",
        "                    validation_data=[x_test, y_test])"
      ],
      "execution_count": 0,
      "outputs": [
        {
          "output_type": "stream",
          "text": [
            "Train for 196 steps, validate on 10000 samples\n",
            "Epoch 1/300\n",
            "196/196 [==============================] - 69s 352ms/step - loss: 5.3244 - accuracy: 0.1312 - val_loss: 20.6620 - val_accuracy: 0.1532\n",
            "Epoch 2/300\n",
            "196/196 [==============================] - 59s 301ms/step - loss: 2.0875 - accuracy: 0.2100 - val_loss: 2.1129 - val_accuracy: 0.2324\n",
            "Epoch 3/300\n",
            "196/196 [==============================] - 59s 301ms/step - loss: 1.9589 - accuracy: 0.2592 - val_loss: 1.8601 - val_accuracy: 0.2832\n",
            "Epoch 4/300\n",
            "196/196 [==============================] - 59s 301ms/step - loss: 1.8726 - accuracy: 0.2965 - val_loss: 1.7714 - val_accuracy: 0.3312\n",
            "Epoch 5/300\n",
            "196/196 [==============================] - 59s 301ms/step - loss: 1.8119 - accuracy: 0.3248 - val_loss: 1.6825 - val_accuracy: 0.3661\n",
            "Epoch 6/300\n",
            "196/196 [==============================] - 59s 301ms/step - loss: 1.7564 - accuracy: 0.3464 - val_loss: 1.6841 - val_accuracy: 0.3654\n",
            "Epoch 7/300\n",
            "196/196 [==============================] - 59s 301ms/step - loss: 1.7058 - accuracy: 0.3647 - val_loss: 1.5543 - val_accuracy: 0.4275\n",
            "Epoch 8/300\n",
            "196/196 [==============================] - 59s 301ms/step - loss: 1.6470 - accuracy: 0.3932 - val_loss: 1.5148 - val_accuracy: 0.4375\n",
            "Epoch 9/300\n",
            "196/196 [==============================] - 59s 301ms/step - loss: 1.6062 - accuracy: 0.4072 - val_loss: 1.5296 - val_accuracy: 0.4496\n",
            "Epoch 10/300\n",
            "196/196 [==============================] - 59s 301ms/step - loss: 1.5578 - accuracy: 0.4267 - val_loss: 1.3897 - val_accuracy: 0.4846\n",
            "Epoch 11/300\n",
            "196/196 [==============================] - 59s 301ms/step - loss: 1.5266 - accuracy: 0.4388 - val_loss: 1.3826 - val_accuracy: 0.4917\n",
            "Epoch 12/300\n",
            "196/196 [==============================] - 59s 301ms/step - loss: 1.4850 - accuracy: 0.4568 - val_loss: 1.5102 - val_accuracy: 0.4787\n",
            "Epoch 13/300\n",
            "196/196 [==============================] - 59s 301ms/step - loss: 1.4477 - accuracy: 0.4715 - val_loss: 1.3444 - val_accuracy: 0.5197\n",
            "Epoch 14/300\n",
            "196/196 [==============================] - 59s 301ms/step - loss: 1.4123 - accuracy: 0.4869 - val_loss: 1.3167 - val_accuracy: 0.5244\n",
            "Epoch 15/300\n",
            "196/196 [==============================] - 59s 301ms/step - loss: 1.3772 - accuracy: 0.5015 - val_loss: 1.2371 - val_accuracy: 0.5534\n",
            "Epoch 16/300\n",
            "196/196 [==============================] - 59s 301ms/step - loss: 1.3477 - accuracy: 0.5147 - val_loss: 1.3482 - val_accuracy: 0.5435\n",
            "Epoch 17/300\n",
            "196/196 [==============================] - 59s 301ms/step - loss: 1.3119 - accuracy: 0.5261 - val_loss: 1.2771 - val_accuracy: 0.5586\n",
            "Epoch 18/300\n",
            "196/196 [==============================] - 59s 301ms/step - loss: 1.2852 - accuracy: 0.5385 - val_loss: 1.2269 - val_accuracy: 0.5691\n",
            "Epoch 19/300\n",
            "196/196 [==============================] - 59s 301ms/step - loss: 1.2505 - accuracy: 0.5534 - val_loss: 1.2160 - val_accuracy: 0.5831\n",
            "Epoch 20/300\n",
            "196/196 [==============================] - 59s 301ms/step - loss: 1.2164 - accuracy: 0.5668 - val_loss: 1.3800 - val_accuracy: 0.5400\n",
            "Epoch 21/300\n",
            "196/196 [==============================] - 59s 301ms/step - loss: 1.2118 - accuracy: 0.5688 - val_loss: 1.2469 - val_accuracy: 0.5729\n",
            "Epoch 22/300\n",
            "196/196 [==============================] - 59s 301ms/step - loss: 1.1795 - accuracy: 0.5845 - val_loss: 1.4144 - val_accuracy: 0.5748\n",
            "Epoch 23/300\n",
            "196/196 [==============================] - 59s 301ms/step - loss: 1.1287 - accuracy: 0.6024 - val_loss: 1.0353 - val_accuracy: 0.6508\n",
            "Epoch 24/300\n",
            "196/196 [==============================] - 59s 301ms/step - loss: 1.0823 - accuracy: 0.6196 - val_loss: 1.1608 - val_accuracy: 0.6019\n",
            "Epoch 25/300\n",
            "196/196 [==============================] - 59s 301ms/step - loss: 1.2892 - accuracy: 0.5429 - val_loss: 1.2631 - val_accuracy: 0.5420\n",
            "Epoch 26/300\n",
            "196/196 [==============================] - 59s 301ms/step - loss: 1.2182 - accuracy: 0.5653 - val_loss: 1.2869 - val_accuracy: 0.5544\n",
            "Epoch 27/300\n",
            " 43/196 [=====>........................] - ETA: 43s - loss: 1.1309 - accuracy: 0.5986"
          ],
          "name": "stdout"
        }
      ]
    }
  ]
}